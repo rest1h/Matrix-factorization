{
 "cells": [
  {
   "cell_type": "code",
   "execution_count": 1,
   "outputs": [],
   "source": [
    "import networkx as nx\n",
    "import numpy as np\n",
    "from trainer import Trainer\n",
    "import matplotlib.pyplot as plt\n",
    "from sklearn.manifold import TSNE"
   ],
   "metadata": {
    "collapsed": false,
    "pycharm": {
     "name": "#%%\n"
    }
   }
  },
  {
   "cell_type": "markdown",
   "source": [
    "# Load data"
   ],
   "metadata": {
    "collapsed": false,
    "pycharm": {
     "name": "#%% md\n"
    }
   }
  },
  {
   "cell_type": "code",
   "execution_count": 2,
   "outputs": [],
   "source": [
    "adjlist = nx.read_adjlist(\"karate_club.adjlist\", nodetype=int)\n",
    "adj = nx.to_numpy_array(adjlist)\n",
    "labels = np.loadtxt(\"karate_label.txt\")"
   ],
   "metadata": {
    "collapsed": false,
    "pycharm": {
     "name": "#%%\n"
    }
   }
  },
  {
   "cell_type": "markdown",
   "source": [
    "# Set hyperparameters"
   ],
   "metadata": {
    "collapsed": false,
    "pycharm": {
     "name": "#%% md\n"
    }
   }
  },
  {
   "cell_type": "code",
   "execution_count": 3,
   "outputs": [],
   "source": [
    "dim = 4\n",
    "epoch = 300\n",
    "n_node = adj.shape[0]\n",
    "lr = 0.01"
   ],
   "metadata": {
    "collapsed": false,
    "pycharm": {
     "name": "#%%\n"
    }
   }
  },
  {
   "cell_type": "markdown",
   "source": [
    "# Training"
   ],
   "metadata": {
    "collapsed": false,
    "pycharm": {
     "name": "#%% md\n"
    }
   }
  },
  {
   "cell_type": "code",
   "execution_count": 4,
   "outputs": [
    {
     "name": "stdout",
     "output_type": "stream",
     "text": [
      "Epoch: 0, Loss: 1580.1532398041757\n",
      "Epoch: 1, Loss: 434.0993063186803\n",
      "Epoch: 2, Loss: 270.9844363205735\n",
      "Epoch: 3, Loss: 210.0564962622056\n",
      "Epoch: 4, Loss: 179.99281034590814\n",
      "Epoch: 5, Loss: 162.80025086080855\n",
      "Epoch: 6, Loss: 151.99291065216312\n",
      "Epoch: 7, Loss: 144.71940994238065\n",
      "Epoch: 8, Loss: 139.55385904346795\n",
      "Epoch: 9, Loss: 135.71605192660314\n",
      "Epoch: 10, Loss: 132.75011296226856\n",
      "Epoch: 11, Loss: 130.37619645343807\n",
      "Epoch: 12, Loss: 128.4158395470763\n",
      "Epoch: 13, Loss: 126.75172671352931\n",
      "Epoch: 14, Loss: 125.30478246037808\n",
      "Epoch: 15, Loss: 124.02054275525656\n",
      "Epoch: 16, Loss: 122.8607543815514\n",
      "Epoch: 17, Loss: 121.79804714605577\n",
      "Epoch: 18, Loss: 120.81247666870624\n",
      "Epoch: 19, Loss: 119.8892392521456\n",
      "Epoch: 20, Loss: 119.01713872605299\n",
      "Epoch: 21, Loss: 118.18754509488483\n",
      "Epoch: 22, Loss: 117.39367986555033\n",
      "Epoch: 23, Loss: 116.6301211061588\n",
      "Epoch: 24, Loss: 115.89245780530072\n",
      "Epoch: 25, Loss: 115.17704652202087\n",
      "Epoch: 26, Loss: 114.48083860847532\n",
      "Epoch: 27, Loss: 113.80125641926116\n",
      "Epoch: 28, Loss: 113.13610371447535\n",
      "Epoch: 29, Loss: 112.483500060728\n",
      "Epoch: 30, Loss: 111.84183216794045\n",
      "Epoch: 31, Loss: 111.20971724734991\n",
      "Epoch: 32, Loss: 110.5859749538156\n",
      "Epoch: 33, Loss: 109.96960549510402\n",
      "Epoch: 34, Loss: 109.35977219570098\n",
      "Epoch: 35, Loss: 108.7557872906956\n",
      "Epoch: 36, Loss: 108.15710006357925\n",
      "Epoch: 37, Loss: 107.56328667677593\n",
      "Epoch: 38, Loss: 106.97404120751115\n",
      "Epoch: 39, Loss: 106.38916751661466\n",
      "Epoch: 40, Loss: 105.80857165967731\n",
      "Epoch: 41, Loss: 105.23225460962419\n",
      "Epoch: 42, Loss: 104.6603051049551\n",
      "Epoch: 43, Loss: 104.0928924740918\n",
      "Epoch: 44, Loss: 103.53025931727868\n",
      "Epoch: 45, Loss: 102.97271395593559\n",
      "Epoch: 46, Loss: 102.42062258697563\n",
      "Epoch: 47, Loss: 101.87440110737809\n",
      "Epoch: 48, Loss: 101.33450660265152\n",
      "Epoch: 49, Loss: 100.80142852164691\n",
      "Epoch: 50, Loss: 100.27567958897416\n",
      "Epoch: 51, Loss: 99.75778653418746\n",
      "Epoch: 52, Loss: 99.24828074283869\n",
      "Epoch: 53, Loss: 98.747688957201\n",
      "Epoch: 54, Loss: 98.25652417265809\n",
      "Epoch: 55, Loss: 97.77527688823955\n",
      "Epoch: 56, Loss: 97.30440687557646\n",
      "Epoch: 57, Loss: 96.84433562897853\n",
      "Epoch: 58, Loss: 96.3954396501344\n",
      "Epoch: 59, Loss: 95.95804470429579\n",
      "Epoch: 60, Loss: 95.53242116138796\n",
      "Epoch: 61, Loss: 95.1187805063969\n",
      "Epoch: 62, Loss: 94.71727307009033\n",
      "Epoch: 63, Loss: 94.32798699537662\n",
      "Epoch: 64, Loss: 93.95094841826878\n",
      "Epoch: 65, Loss: 93.58612280737191\n",
      "Epoch: 66, Loss: 93.23341737378755\n",
      "Epoch: 67, Loss: 92.89268443579844\n",
      "Epoch: 68, Loss: 92.56372560079345\n",
      "Epoch: 69, Loss: 92.24629661133409\n",
      "Epoch: 70, Loss: 91.94011269335783\n",
      "Epoch: 71, Loss: 91.644854242156\n",
      "Epoch: 72, Loss: 91.36017268550741\n",
      "Epoch: 73, Loss: 91.08569637245357\n",
      "Epoch: 74, Loss: 90.82103634973319\n",
      "Epoch: 75, Loss: 90.56579190479954\n",
      "Epoch: 76, Loss: 90.31955577354047\n",
      "Epoch: 77, Loss: 90.0819189312528\n",
      "Epoch: 78, Loss: 89.85247490613081\n",
      "Epoch: 79, Loss: 89.63082357467812\n",
      "Epoch: 80, Loss: 89.41657441735768\n",
      "Epoch: 81, Loss: 89.2093492299326\n",
      "Epoch: 82, Loss: 89.00878430095122\n",
      "Epoch: 83, Loss: 88.8145320784682\n",
      "Epoch: 84, Loss: 88.62626235927671\n",
      "Epoch: 85, Loss: 88.44366304166431\n",
      "Epoch: 86, Loss: 88.26644048810606\n",
      "Epoch: 87, Loss: 88.09431954753728\n",
      "Epoch: 88, Loss: 87.927043288133\n",
      "Epoch: 89, Loss: 87.76437249111396\n",
      "Epoch: 90, Loss: 87.60608495427378\n",
      "Epoch: 91, Loss: 87.45197465096183\n",
      "Epoch: 92, Loss: 87.30185078643075\n",
      "Epoch: 93, Loss: 87.15553678903422\n",
      "Epoch: 94, Loss: 87.0128692689746\n",
      "Epoch: 95, Loss: 86.87369697236866\n",
      "Epoch: 96, Loss: 86.7378797535076\n",
      "Epoch: 97, Loss: 86.60528758348626\n",
      "Epoch: 98, Loss: 86.4757996089894\n",
      "Epoch: 99, Loss: 86.34930327103635\n",
      "Epoch: 100, Loss: 86.22569348996134\n",
      "Epoch: 101, Loss: 86.10487191987691\n",
      "Epoch: 102, Loss: 85.98674627333804\n",
      "Epoch: 103, Loss: 85.87122971488918\n",
      "Epoch: 104, Loss: 85.75824032060132\n",
      "Epoch: 105, Loss: 85.6477005995572\n",
      "Epoch: 106, Loss: 85.53953707247013\n",
      "Epoch: 107, Loss: 85.43367990217365\n",
      "Epoch: 108, Loss: 85.33006257054134\n",
      "Epoch: 109, Loss: 85.22862159643786\n",
      "Epoch: 110, Loss: 85.12929628950899\n",
      "Epoch: 111, Loss: 85.03202853495063\n",
      "Epoch: 112, Loss: 84.93676260480805\n",
      "Epoch: 113, Loss: 84.84344499181701\n",
      "Epoch: 114, Loss: 84.75202426227682\n",
      "Epoch: 115, Loss: 84.66245092492076\n",
      "Epoch: 116, Loss: 84.57467731320322\n",
      "Epoch: 117, Loss: 84.48865747884435\n",
      "Epoch: 118, Loss: 84.40434709485312\n",
      "Epoch: 119, Loss: 84.32170336658515\n",
      "Epoch: 120, Loss: 84.24068494968017\n",
      "Epoch: 121, Loss: 84.16125187396688\n",
      "Epoch: 122, Loss: 84.08336547262331\n",
      "Epoch: 123, Loss: 84.00698831604117\n",
      "Epoch: 124, Loss: 83.93208414996856\n",
      "Epoch: 125, Loss: 83.85861783760092\n",
      "Epoch: 126, Loss: 83.78655530536065\n",
      "Epoch: 127, Loss: 83.71586349215457\n",
      "Epoch: 128, Loss: 83.64651030193167\n",
      "Epoch: 129, Loss: 83.57846455938346\n",
      "Epoch: 130, Loss: 83.51169596864005\n",
      "Epoch: 131, Loss: 83.44617507481884\n",
      "Epoch: 132, Loss: 83.38187322828259\n",
      "Epoch: 133, Loss: 83.31876255146145\n",
      "Epoch: 134, Loss: 83.25681590808934\n",
      "Epoch: 135, Loss: 83.19600687470235\n",
      "Epoch: 136, Loss: 83.13630971424354\n",
      "Epoch: 137, Loss: 83.07769935161838\n",
      "Epoch: 138, Loss: 83.02015135104452\n",
      "Epoch: 139, Loss: 82.96364189504226\n",
      "Epoch: 140, Loss: 82.90814776491592\n",
      "Epoch: 141, Loss: 82.85364632258134\n",
      "Epoch: 142, Loss: 82.80011549360164\n",
      "Epoch: 143, Loss: 82.74753375130105\n",
      "Epoch: 144, Loss: 82.6958801018353\n",
      "Epoch: 145, Loss: 82.64513407010583\n",
      "Epoch: 146, Loss: 82.59527568641543\n",
      "Epoch: 147, Loss: 82.54628547377175\n",
      "Epoch: 148, Loss: 82.49814443575517\n",
      "Epoch: 149, Loss: 82.45083404487701\n",
      "Epoch: 150, Loss: 82.4043362313626\n",
      "Epoch: 151, Loss: 82.35863337230299\n",
      "Epoch: 152, Loss: 82.3137082811264\n",
      "Epoch: 153, Loss: 82.26954419734811\n",
      "Epoch: 154, Loss: 82.22612477656475\n",
      "Epoch: 155, Loss: 82.18343408066396\n",
      "Epoch: 156, Loss: 82.141456568227\n",
      "Epoch: 157, Loss: 82.1001770851057\n",
      "Epoch: 158, Loss: 82.05958085515996\n",
      "Epoch: 159, Loss: 82.01965347114512\n",
      "Epoch: 160, Loss: 81.98038088574185\n",
      "Epoch: 161, Loss: 81.94174940272379\n",
      "Epoch: 162, Loss: 81.90374566825983\n",
      "Epoch: 163, Loss: 81.86635666235\n",
      "Epoch: 164, Loss: 81.82956969039525\n",
      "Epoch: 165, Loss: 81.79337237490198\n",
      "Epoch: 166, Loss: 81.7577526473234\n",
      "Epoch: 167, Loss: 81.72269874003987\n",
      "Epoch: 168, Loss: 81.68819917848111\n",
      "Epoch: 169, Loss: 81.65424277339245\n",
      "Epoch: 170, Loss: 81.62081861324859\n",
      "Epoch: 171, Loss: 81.58791605681671\n",
      "Epoch: 172, Loss: 81.55552472587166\n",
      "Epoch: 173, Loss: 81.52363449806543\n",
      "Epoch: 174, Loss: 81.49223549995205\n",
      "Epoch: 175, Loss: 81.46131810017009\n",
      "Epoch: 176, Loss: 81.43087290278305\n",
      "Epoch: 177, Loss: 81.40089074077882\n",
      "Epoch: 178, Loss: 81.3713626697279\n",
      "Epoch: 179, Loss: 81.34227996160085\n",
      "Epoch: 180, Loss: 81.31363409874379\n",
      "Epoch: 181, Loss: 81.28541676801164\n",
      "Epoch: 182, Loss: 81.25761985505767\n",
      "Epoch: 183, Loss: 81.23023543877774\n",
      "Epoch: 184, Loss: 81.2032557859078\n",
      "Epoch: 185, Loss: 81.17667334577233\n",
      "Epoch: 186, Loss: 81.1504807451816\n",
      "Epoch: 187, Loss: 81.12467078347528\n",
      "Epoch: 188, Loss: 81.0992364277098\n",
      "Epoch: 189, Loss: 81.0741708079866\n",
      "Epoch: 190, Loss: 81.04946721291844\n",
      "Epoch: 191, Loss: 81.02511908523068\n",
      "Epoch: 192, Loss: 81.0011200174946\n",
      "Epoch: 193, Loss: 80.97746374798922\n",
      "Epoch: 194, Loss: 80.95414415668884\n",
      "Epoch: 195, Loss: 80.9311552613728\n",
      "Epoch: 196, Loss: 80.908491213854\n",
      "Epoch: 197, Loss: 80.88614629632356\n",
      "Epoch: 198, Loss: 80.86411491780743\n",
      "Epoch: 199, Loss: 80.84239161073253\n",
      "Epoch: 200, Loss: 80.82097102759863\n",
      "Epoch: 201, Loss: 80.79984793775316\n",
      "Epoch: 202, Loss: 80.77901722426546\n",
      "Epoch: 203, Loss: 80.75847388089781\n",
      "Epoch: 204, Loss: 80.73821300916967\n",
      "Epoch: 205, Loss: 80.71822981551264\n",
      "Epoch: 206, Loss: 80.69851960851304\n",
      "Epoch: 207, Loss: 80.67907779623906\n",
      "Epoch: 208, Loss: 80.65989988365021\n",
      "Epoch: 209, Loss: 80.64098147008585\n",
      "Epoch: 210, Loss: 80.6223182468304\n",
      "Epoch: 211, Loss: 80.6039059947529\n",
      "Epoch: 212, Loss: 80.58574058201802\n",
      "Epoch: 213, Loss: 80.56781796186635\n",
      "Epoch: 214, Loss: 80.55013417046172\n",
      "Epoch: 215, Loss: 80.53268532480315\n",
      "Epoch: 216, Loss: 80.51546762069935\n",
      "Epoch: 217, Loss: 80.4984773308035\n",
      "Epoch: 218, Loss: 80.48171080270654\n",
      "Epoch: 219, Loss: 80.46516445708681\n",
      "Epoch: 220, Loss: 80.44883478591414\n",
      "Epoch: 221, Loss: 80.43271835070674\n",
      "Epoch: 222, Loss: 80.41681178083883\n",
      "Epoch: 223, Loss: 80.40111177189759\n",
      "Epoch: 224, Loss: 80.3856150840877\n",
      "Epoch: 225, Loss: 80.3703185406817\n",
      "Epoch: 226, Loss: 80.35521902651493\n",
      "Epoch: 227, Loss: 80.3403134865233\n",
      "Epoch: 228, Loss: 80.32559892432286\n",
      "Epoch: 229, Loss: 80.31107240082927\n",
      "Epoch: 230, Loss: 80.29673103291631\n",
      "Epoch: 231, Loss: 80.2825719921119\n",
      "Epoch: 232, Loss: 80.26859250333055\n",
      "Epoch: 233, Loss: 80.25478984364099\n",
      "Epoch: 234, Loss: 80.24116134106778\n",
      "Epoch: 235, Loss: 80.22770437342595\n",
      "Epoch: 236, Loss: 80.21441636718757\n",
      "Epoch: 237, Loss: 80.20129479637909\n",
      "Epoch: 238, Loss: 80.18833718150867\n",
      "Epoch: 239, Loss: 80.17554108852244\n",
      "Epoch: 240, Loss: 80.1629041277888\n",
      "Epoch: 241, Loss: 80.15042395310991\n",
      "Epoch: 242, Loss: 80.13809826075939\n",
      "Epoch: 243, Loss: 80.12592478854566\n",
      "Epoch: 244, Loss: 80.11390131489995\n",
      "Epoch: 245, Loss: 80.10202565798812\n",
      "Epoch: 246, Loss: 80.09029567484595\n",
      "Epoch: 247, Loss: 80.07870926053658\n",
      "Epoch: 248, Loss: 80.06726434733018\n",
      "Epoch: 249, Loss: 80.05595890390441\n",
      "Epoch: 250, Loss: 80.04479093456564\n",
      "Epoch: 251, Loss: 80.03375847848991\n",
      "Epoch: 252, Loss: 80.02285960898341\n",
      "Epoch: 253, Loss: 80.01209243276139\n",
      "Epoch: 254, Loss: 80.00145508924555\n",
      "Epoch: 255, Loss: 79.9909457498789\n",
      "Epoch: 256, Loss: 79.98056261745779\n",
      "Epoch: 257, Loss: 79.97030392548062\n",
      "Epoch: 258, Loss: 79.96016793751255\n",
      "Epoch: 259, Loss: 79.95015294656599\n",
      "Epoch: 260, Loss: 79.94025727449645\n",
      "Epoch: 261, Loss: 79.93047927141279\n",
      "Epoch: 262, Loss: 79.92081731510221\n",
      "Epoch: 263, Loss: 79.91126981046905\n",
      "Epoch: 264, Loss: 79.90183518898706\n",
      "Epoch: 265, Loss: 79.892511908165\n",
      "Epoch: 266, Loss: 79.88329845102501\n",
      "Epoch: 267, Loss: 79.87419332559321\n",
      "Epoch: 268, Loss: 79.86519506440285\n",
      "Epoch: 269, Loss: 79.85630222400872\n",
      "Epoch: 270, Loss: 79.84751338451329\n",
      "Epoch: 271, Loss: 79.83882714910408\n",
      "Epoch: 272, Loss: 79.8302421436014\n",
      "Epoch: 273, Loss: 79.82175701601712\n",
      "Epoch: 274, Loss: 79.81337043612334\n",
      "Epoch: 275, Loss: 79.80508109503117\n",
      "Epoch: 276, Loss: 79.79688770477911\n",
      "Epoch: 277, Loss: 79.78878899793102\n",
      "Epoch: 278, Loss: 79.780783727183\n",
      "Epoch: 279, Loss: 79.77287066497952\n",
      "Epoch: 280, Loss: 79.76504860313796\n",
      "Epoch: 281, Loss: 79.7573163524818\n",
      "Epoch: 282, Loss: 79.749672742482\n",
      "Epoch: 283, Loss: 79.74211662090642\n",
      "Epoch: 284, Loss: 79.73464685347696\n",
      "Epoch: 285, Loss: 79.72726232353446\n",
      "Epoch: 286, Loss: 79.71996193171097\n",
      "Epoch: 287, Loss: 79.71274459560917\n",
      "Epoch: 288, Loss: 79.70560924948889\n",
      "Epoch: 289, Loss: 79.69855484396054\n",
      "Epoch: 290, Loss: 79.69158034568511\n",
      "Epoch: 291, Loss: 79.68468473708072\n",
      "Epoch: 292, Loss: 79.67786701603562\n",
      "Epoch: 293, Loss: 79.67112619562727\n",
      "Epoch: 294, Loss: 79.66446130384742\n",
      "Epoch: 295, Loss: 79.65787138333317\n",
      "Epoch: 296, Loss: 79.65135549110384\n",
      "Epoch: 297, Loss: 79.64491269830309\n",
      "Epoch: 298, Loss: 79.63854208994691\n",
      "Epoch: 299, Loss: 79.6322427646767\n"
     ]
    },
    {
     "data": {
      "text/plain": "[<matplotlib.lines.Line2D at 0x13356f1c0>]"
     },
     "execution_count": 4,
     "metadata": {},
     "output_type": "execute_result"
    },
    {
     "data": {
      "text/plain": "<Figure size 432x288 with 1 Axes>",
      "image/png": "[encoded data removed]"
     },
     "metadata": {
      "needs_background": "light"
     },
     "output_type": "display_data"
    }
   ],
   "source": [
    "trainer = Trainer(dim, n_node, adj, epoch, lr)\n",
    "result = trainer.train()\n",
    "plt.plot(result)"
   ],
   "metadata": {
    "collapsed": false,
    "pycharm": {
     "name": "#%%\n"
    }
   }
  },
  {
   "cell_type": "markdown",
   "source": [
    "# Visualize embeddings with t-sne"
   ],
   "metadata": {
    "collapsed": false,
    "pycharm": {
     "name": "#%% md\n"
    }
   }
  },
  {
   "cell_type": "code",
   "execution_count": 29,
   "outputs": [
    {
     "name": "stderr",
     "output_type": "stream",
     "text": [
      "/opt/homebrew/Caskroom/miniconda/base/envs/NetSci/lib/python3.8/site-packages/sklearn/manifold/_t_sne.py:780: FutureWarning: The default initialization in TSNE will change from 'random' to 'pca' in 1.2.\n",
      "  warnings.warn(\n",
      "/opt/homebrew/Caskroom/miniconda/base/envs/NetSci/lib/python3.8/site-packages/sklearn/manifold/_t_sne.py:790: FutureWarning: The default learning rate in TSNE will change from 200.0 to 'auto' in 1.2.\n",
      "  warnings.warn(\n"
     ]
    },
    {
     "data": {
      "text/plain": "<Figure size 720x576 with 1 Axes>",
      "image/png": "[encoded data removed]"
     },
     "metadata": {
      "needs_background": "light"
     },
     "output_type": "display_data"
    }
   ],
   "source": [
    "# load the node embedding vector that has been trained. (34, 4) dimension\n",
    "node_emb = np.copy(trainer.net.node_emb_u.T)\n",
    "\n",
    "# a parameter for dimension reduction\n",
    "n_components = 2\n",
    "\n",
    "# transform the node embedding vector size from (34, 4) into (34, 2) with a T-SNE model\n",
    "model = TSNE(n_components=n_components)\n",
    "node_emb_2d = model.fit_transform(node_emb)\n",
    "\n",
    "# separate the x-axis values and y-axis values\n",
    "x = node_emb_2d[:, 0]\n",
    "y = node_emb_2d[:, 1]\n",
    "\n",
    "# set color options from the labels.\n",
    "node_colours = labels[:, -1]\n",
    "\n",
    "# scatter plot\n",
    "plt.figure(figsize=(10, 8))\n",
    "plt.scatter(x, y, c=node_colours, cmap=\"jet\")\n",
    "plt.show()"
   ],
   "metadata": {
    "collapsed": false,
    "pycharm": {
     "name": "#%%\n"
    }
   }
  },
  {
   "cell_type": "code",
   "execution_count": null,
   "outputs": [],
   "source": [],
   "metadata": {
    "collapsed": false,
    "pycharm": {
     "name": "#%%\n"
    }
   }
  }
 ],
 "metadata": {
  "kernelspec": {
   "display_name": "Python 3",
   "language": "python",
   "name": "python3"
  },
  "language_info": {
   "codemirror_mode": {
    "name": "ipython",
    "version": 2
   },
   "file_extension": ".py",
   "mimetype": "text/x-python",
   "name": "python",
   "nbconvert_exporter": "python",
   "pygments_lexer": "ipython2",
   "version": "2.7.6"
  }
 },
 "nbformat": 4,
 "nbformat_minor": 0
}